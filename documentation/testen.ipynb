{
 "cells": [
  {
   "cell_type": "code",
   "execution_count": null,
   "metadata": {},
   "outputs": [],
   "source": [
    "import requests\n",
    "from IPython.display import display, Markdown\n",
    "\n",
    "# Basis-URL des FastAPI-Servers\n",
    "url = \"http://127.0.0.1:8000\"\n",
    "\n",
    "# --- POST-Anfrage an den /validate/ Endpunkt --- url \n",
    "post_endpoint = f\"{url}/validate/\"\n",
    "\n",
    "# Beispiel: studentische Lösung und ID der Musterlösung\n",
    "payload = {\n",
    "    \"loesungID\": 2,\n",
    "    \"er_model\": \"\"\"\n",
    "flowchart\n",
    "    subgraph SG1 [ ]\n",
    "        Anbieter---P1([\"`<ins>AnbieterID</ins>`\"])\n",
    "        Anbieter---P2([Name])\n",
    "        Anbieter---P3(((Nachweise)))\n",
    "    end\n",
    "    subgraph SG2 [ ]\n",
    "        Bauteil---B1([\"`<ins>Modell</ins>`\"])\n",
    "        Bauteil---B2([Masse])\n",
    "        Bauteil---B3([Maße])\n",
    "        B3([Maße])---B4([Länge])\n",
    "        B3([Maße])---B5([Breite])\n",
    "        B3([Maße])---B6([Standhöhe])\n",
    "        Anbieter--(1,*)---produzieren{produzieren}\n",
    "        produzieren{produzieren}--(1,*)---Bauteil \n",
    "        produzieren{produzieren}---H1([Produktionsjahr])\n",
    "        Bauteil--(1,*)---enthält{enthält}\n",
    "        enthält{enthält}--(1,*)---Bauteil\n",
    "    end    \n",
    "    style SG1 fill:#ff0000,fill-opacity:0.0,stroke:#333,stroke-width:0px\n",
    "    style SG2 fill:#ff0000,fill-opacity:0.0,stroke:#333,stroke-width:0px\n",
    "    linkStyle default marker-end:none\n",
    "    \"\"\"\n",
    "}\n",
    "\n",
    "# Sendet die POST-Anfrage\n",
    "response = requests.post(post_endpoint, json=payload)\n",
    "\n",
    "# Ergebnis abfragen und visualisieren\n",
    "if response.status_code == 200:\n",
    "    feedback_mermaid = response.json().get(\"feedback\")\n",
    "    if feedback_mermaid:\n",
    "        display(Markdown(f\"```mermaid\\n{feedback_mermaid}\\n```\"))\n",
    "    else:\n",
    "        print(\"Keine Feedback-Daten erhalten.\")\n",
    "else:\n",
    "    print(\"Fehler bei der Anfrage:\", response.status_code, response.json())\n"
   ]
  }
 ],
 "metadata": {
  "language_info": {
   "name": "python"
  }
 },
 "nbformat": 4,
 "nbformat_minor": 2
}
