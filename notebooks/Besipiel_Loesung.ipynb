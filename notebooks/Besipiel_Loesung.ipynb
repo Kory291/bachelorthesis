{
 "cells": [
  {
   "cell_type": "markdown",
   "metadata": {},
   "source": [
    "```mermaid\n",
    "flowchart\n",
    "    subgraph SG1 [ ]\n",
    "        Produzent---P1([\"`<ins>ProdId</ins>`\"])\n",
    "        Produzent---P2([Name])\n",
    "        Produzent---P3(((Zertifikate)))\n",
    "    end\n",
    "    subgraph SG2 [ ]\n",
    "        Bauteil---B1([\"`<ins>Name</ins>`\"])\n",
    "        Bauteil---B2([Gewicht])\n",
    "        Bauteil---B3([Größe])\n",
    "        B3---B4([Länge])\n",
    "        B3---B5([Breite])\n",
    "        B3---B6([Höhe])\n",
    "    end\n",
    "    subgraph SG3 [ ]\n",
    "        Produzent -- (1,*) --- herstellen{herstellen}\n",
    "        herstellen -- (1,1) --- Bauteil \n",
    "        herstellen---H1([Jahr])\n",
    "        Bauteil -- (0,*) --- bestehen_aus{bestehen_aus}\n",
    "        bestehen_aus{bestehen_aus} -- (0,*) --- Bauteil\n",
    "    end    \n",
    "    style SG1 fill:#ff0000,fill-opacity:0.0,stroke:#333,stroke-width:0px\n",
    "    style SG2 fill:#ff0000,fill-opacity:0.0,stroke:#333,stroke-width:0px\n",
    "    style SG3 fill:#ff0000,fill-opacity:0.0,stroke:#333,stroke-width:0px\n",
    "```"
   ]
  }
 ],
 "metadata": {
  "language_info": {
   "name": "python"
  }
 },
 "nbformat": 4,
 "nbformat_minor": 2
}
