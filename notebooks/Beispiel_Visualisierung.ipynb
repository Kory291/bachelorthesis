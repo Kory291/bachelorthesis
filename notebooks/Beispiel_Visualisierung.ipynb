{
 "cells": [
  {
   "cell_type": "markdown",
   "metadata": {},
   "source": [
    "```mermaid\n",
    "flowchart\n",
    "    subgraph SG1 [ ]\n",
    "        Produzent---P1([\"`<ins>ProdId</ins>`\"])\n",
    "        Produzent---P3(((Zertifikate)))\n",
    "    end\n",
    "    subgraph SG2 [ ]\n",
    "        Bauteil---B1([\"`<ins>Name</ins>`\"])\n",
    "        Bauteil---B2([Gewicht])\n",
    "        Bauteil---B3([Größe])\n",
    "        Bauteil---B7([Farbe])\n",
    "        B3([Größe])---B4([Länge])\n",
    "        B3([Größe])---B5([Breite])\n",
    "        B3([Größe])---B6([Höhe])\n",
    "    end\n",
    "    subgraph SG3 [ ]\n",
    "        Produzent--(1,*)---bauen{bauen}\n",
    "        bauen{bauen}--(1,1)---Bauteil\n",
    "        bauen{bauen}---H1([Jahr])\n",
    "        Bauteil--(2,3)---bestehen_aus{bestehen_aus}\n",
    "        bestehen_aus{bestehen_aus}--(0,*)---Bauteil\n",
    "    end\n",
    "    style SG1 fill:#ff0000,fill-opacity:0.0,stroke:#333,stroke-width:0px\n",
    "    style SG2 fill:#ff0000,fill-opacity:0.0,stroke:#333,stroke-width:0px\n",
    "    style SG3 fill:#ff0000,fill-opacity:0.0,stroke:#333,stroke-width:0px\n",
    "\n",
    "    fehlerFehlendeKnoten[Fehler: Es fehlen noch Enitäten, Attribute oder Relationships!]\n",
    "    style fehlerFehlendeKnoten fill:#fde2e1,stroke:#b91c1c,stroke-width:2px\n",
    "    style B7 fill:#d9eaf7,stroke:#045a8d,stroke-width:2px\n",
    "    style bauen fill:#F4CCCC,stroke:#F4CCCC,color:#CC0000, stroke-width:2px\n",
    "    fehlerFehlendeKanten[ Es fehlen noch Beziehungen zwischen Enitäten, Attributen oder Relationships!]\n",
    "    style fehlerFehlendeKanten fill:#fde2e1,stroke:#b91c1c,stroke-width:2px\n",
    "    linkStyle 5 stroke:#FFD966,stroke-width:4px,color:#FFD966, fill:none\n",
    "    linkStyle 12 stroke:#d62728,stroke-width:4px,color:#d62728,fill:none\n",
    "    ```"
   ]
  }
 ],
 "metadata": {
  "kernelspec": {
   "display_name": "Python 3",
   "language": "python",
   "name": "python3"
  },
  "language_info": {
   "codemirror_mode": {
    "name": "ipython",
    "version": 3
   },
   "file_extension": ".py",
   "mimetype": "text/x-python",
   "name": "python",
   "nbconvert_exporter": "python",
   "pygments_lexer": "ipython3",
   "version": "3.10.5"
  }
 },
 "nbformat": 4,
 "nbformat_minor": 2
}
